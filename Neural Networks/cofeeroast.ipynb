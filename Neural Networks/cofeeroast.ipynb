{
 "cells": [
  {
   "cell_type": "code",
   "execution_count": 1,
   "metadata": {},
   "outputs": [],
   "source": [
    "from distutils.command.install_egg_info import to_filename\n",
    "import numpy as np\n",
    "import pandas as pd\n",
    "import matplotlib.pyplot as plt\n",
    "import tensorflow as tf\n",
    "from tensorflow.python.keras.models import Sequential\n",
    "from tensorflow.python.keras.layers import Dense"
   ]
  },
  {
   "cell_type": "code",
   "execution_count": 2,
   "metadata": {},
   "outputs": [
    {
     "name": "stdout",
     "output_type": "stream",
     "text": [
      "     time  quality\n",
      "0  185.32    12.69\n",
      "1  259.92    11.87\n",
      "2  231.01    14.41\n",
      "3  175.37    11.72\n",
      "4  187.12    14.13\n"
     ]
    },
    {
     "data": {
      "text/plain": [
       "time       float64\n",
       "quality    float64\n",
       "dtype: object"
      ]
     },
     "execution_count": 2,
     "metadata": {},
     "output_type": "execute_result"
    }
   ],
   "source": [
    "df=pd.read_csv('data.csv')\n",
    "df=df.drop(['nan'],axis=1)\n",
    "print(df.head())\n",
    "X=df\n",
    "X.dtypes"
   ]
  },
  {
   "cell_type": "code",
   "execution_count": 3,
   "metadata": {},
   "outputs": [
    {
     "data": {
      "text/html": [
       "<div>\n",
       "<style scoped>\n",
       "    .dataframe tbody tr th:only-of-type {\n",
       "        vertical-align: middle;\n",
       "    }\n",
       "\n",
       "    .dataframe tbody tr th {\n",
       "        vertical-align: top;\n",
       "    }\n",
       "\n",
       "    .dataframe thead th {\n",
       "        text-align: right;\n",
       "    }\n",
       "</style>\n",
       "<table border=\"1\" class=\"dataframe\">\n",
       "  <thead>\n",
       "    <tr style=\"text-align: right;\">\n",
       "      <th></th>\n",
       "      <th>quality</th>\n",
       "    </tr>\n",
       "  </thead>\n",
       "  <tbody>\n",
       "    <tr>\n",
       "      <th>0</th>\n",
       "      <td>1.0</td>\n",
       "    </tr>\n",
       "    <tr>\n",
       "      <th>1</th>\n",
       "      <td>0.0</td>\n",
       "    </tr>\n",
       "    <tr>\n",
       "      <th>2</th>\n",
       "      <td>0.0</td>\n",
       "    </tr>\n",
       "    <tr>\n",
       "      <th>3</th>\n",
       "      <td>0.0</td>\n",
       "    </tr>\n",
       "    <tr>\n",
       "      <th>4</th>\n",
       "      <td>1.0</td>\n",
       "    </tr>\n",
       "  </tbody>\n",
       "</table>\n",
       "</div>"
      ],
      "text/plain": [
       "   quality\n",
       "0      1.0\n",
       "1      0.0\n",
       "2      0.0\n",
       "3      0.0\n",
       "4      1.0"
      ]
     },
     "execution_count": 3,
     "metadata": {},
     "output_type": "execute_result"
    }
   ],
   "source": [
    "Y=pd.read_csv('ydata.csv')\n",
    "Y.head()"
   ]
  },
  {
   "cell_type": "code",
   "execution_count": 4,
   "metadata": {},
   "outputs": [
    {
     "name": "stdout",
     "output_type": "stream",
     "text": [
      "time       0\n",
      "quality    0\n",
      "dtype: int64\n"
     ]
    },
    {
     "data": {
      "text/plain": [
       "quality    0\n",
       "dtype: int64"
      ]
     },
     "execution_count": 4,
     "metadata": {},
     "output_type": "execute_result"
    }
   ],
   "source": [
    "print(X.isna().sum())\n",
    "Y.isna().sum()"
   ]
  },
  {
   "cell_type": "code",
   "execution_count": 5,
   "metadata": {},
   "outputs": [
    {
     "name": "stdout",
     "output_type": "stream",
     "text": [
      "(200000, 2) (200000, 1)\n"
     ]
    }
   ],
   "source": [
    "X= np.tile(X,(1000,1))\n",
    "Y= np.tile(Y,(1000,1))   \n",
    "print(X.shape, Y.shape)   "
   ]
  },
  {
   "cell_type": "code",
   "execution_count": 6,
   "metadata": {},
   "outputs": [],
   "source": [
    "from sklearn.model_selection import train_test_split\n",
    "x_train,x_test,y_train,y_test=train_test_split(X,Y,test_size=0.1)"
   ]
  },
  {
   "cell_type": "code",
   "execution_count": 7,
   "metadata": {},
   "outputs": [],
   "source": [
    "model=Sequential([\n",
    "    Dense(7,activation='relu',name='layer1'),\n",
    "    Dense(3,activation='relu',name='layer2'),\n",
    "    Dense(1,activation='sigmoid',name='layer3')\n",
    "])"
   ]
  },
  {
   "cell_type": "code",
   "execution_count": 8,
   "metadata": {},
   "outputs": [],
   "source": [
    "tf.keras.optimizers.Adam(learning_rate=0.01)\n",
    "model.compile(\n",
    "    loss = tf.keras.losses.BinaryCrossentropy(),\n",
    "    optimizer = 'adam'\n",
    ")"
   ]
  },
  {
   "cell_type": "code",
   "execution_count": 9,
   "metadata": {},
   "outputs": [
    {
     "name": "stdout",
     "output_type": "stream",
     "text": [
      "Epoch 1/100\n",
      "7200/7200 [==============================] - 6s 652us/step - loss: 0.6371\n",
      "Epoch 2/100\n",
      "7200/7200 [==============================] - 4s 601us/step - loss: 0.4912\n",
      "Epoch 3/100\n",
      "7200/7200 [==============================] - 4s 589us/step - loss: 0.4807\n",
      "Epoch 4/100\n",
      "7200/7200 [==============================] - 4s 586us/step - loss: 0.4732\n",
      "Epoch 5/100\n",
      "7200/7200 [==============================] - 4s 598us/step - loss: 0.4689\n",
      "Epoch 6/100\n",
      "7200/7200 [==============================] - 4s 599us/step - loss: 0.4658\n",
      "Epoch 7/100\n",
      "7200/7200 [==============================] - 4s 601us/step - loss: 0.4651\n",
      "Epoch 8/100\n",
      "7200/7200 [==============================] - 4s 604us/step - loss: 0.4641\n",
      "Epoch 9/100\n",
      "7200/7200 [==============================] - 4s 588us/step - loss: 0.4632\n",
      "Epoch 10/100\n",
      "7200/7200 [==============================] - 4s 576us/step - loss: 0.4623\n",
      "Epoch 11/100\n",
      "7200/7200 [==============================] - 4s 595us/step - loss: 0.4618\n",
      "Epoch 12/100\n",
      "7200/7200 [==============================] - 4s 608us/step - loss: 0.4621\n",
      "Epoch 13/100\n",
      "7200/7200 [==============================] - 4s 600us/step - loss: 0.4615\n",
      "Epoch 14/100\n",
      "7200/7200 [==============================] - 4s 591us/step - loss: 0.4614\n",
      "Epoch 15/100\n",
      "7200/7200 [==============================] - 4s 594us/step - loss: 0.4608\n",
      "Epoch 16/100\n",
      "7200/7200 [==============================] - 4s 599us/step - loss: 0.4609\n",
      "Epoch 17/100\n",
      "7200/7200 [==============================] - 4s 599us/step - loss: 0.4608\n",
      "Epoch 18/100\n",
      "7200/7200 [==============================] - 4s 603us/step - loss: 0.4612\n",
      "Epoch 19/100\n",
      "7200/7200 [==============================] - 4s 595us/step - loss: 0.4608\n",
      "Epoch 20/100\n",
      "7200/7200 [==============================] - 4s 595us/step - loss: 0.4607\n",
      "Epoch 21/100\n",
      "7200/7200 [==============================] - 4s 597us/step - loss: 0.4606\n",
      "Epoch 22/100\n",
      "7200/7200 [==============================] - 4s 594us/step - loss: 0.4607\n",
      "Epoch 23/100\n",
      "7200/7200 [==============================] - 4s 592us/step - loss: 0.4608\n",
      "Epoch 24/100\n",
      "7200/7200 [==============================] - 4s 597us/step - loss: 0.4604\n",
      "Epoch 25/100\n",
      "7200/7200 [==============================] - 4s 597us/step - loss: 0.4605\n",
      "Epoch 26/100\n",
      "7200/7200 [==============================] - 4s 595us/step - loss: 0.4606\n",
      "Epoch 27/100\n",
      "7200/7200 [==============================] - 4s 597us/step - loss: 0.4602\n",
      "Epoch 28/100\n",
      "7200/7200 [==============================] - 4s 593us/step - loss: 0.4606\n",
      "Epoch 29/100\n",
      "7200/7200 [==============================] - 4s 593us/step - loss: 0.4605\n",
      "Epoch 30/100\n",
      "7200/7200 [==============================] - 4s 583us/step - loss: 0.4604\n",
      "Epoch 31/100\n",
      "7200/7200 [==============================] - 4s 595us/step - loss: 0.4603\n",
      "Epoch 32/100\n",
      "7200/7200 [==============================] - 4s 594us/step - loss: 0.4603\n",
      "Epoch 33/100\n",
      "7200/7200 [==============================] - 4s 596us/step - loss: 0.4604\n",
      "Epoch 34/100\n",
      "7200/7200 [==============================] - 4s 595us/step - loss: 0.4599\n",
      "Epoch 35/100\n",
      "7200/7200 [==============================] - 4s 604us/step - loss: 0.4602\n",
      "Epoch 36/100\n",
      "7200/7200 [==============================] - 4s 595us/step - loss: 0.4602\n",
      "Epoch 37/100\n",
      "7200/7200 [==============================] - 4s 596us/step - loss: 0.4602\n",
      "Epoch 38/100\n",
      "7200/7200 [==============================] - 4s 595us/step - loss: 0.4602\n",
      "Epoch 39/100\n",
      "7200/7200 [==============================] - 4s 596us/step - loss: 0.4599\n",
      "Epoch 40/100\n",
      "7200/7200 [==============================] - 4s 593us/step - loss: 0.4601\n",
      "Epoch 41/100\n",
      "7200/7200 [==============================] - 4s 600us/step - loss: 0.4601\n",
      "Epoch 42/100\n",
      "7200/7200 [==============================] - 4s 590us/step - loss: 0.4601\n",
      "Epoch 43/100\n",
      "7200/7200 [==============================] - 4s 590us/step - loss: 0.4598\n",
      "Epoch 44/100\n",
      "7200/7200 [==============================] - 4s 592us/step - loss: 0.4599\n",
      "Epoch 45/100\n",
      "7200/7200 [==============================] - 4s 593us/step - loss: 0.4602\n",
      "Epoch 46/100\n",
      "7200/7200 [==============================] - 4s 596us/step - loss: 0.4598\n",
      "Epoch 47/100\n",
      "7200/7200 [==============================] - 4s 590us/step - loss: 0.4600\n",
      "Epoch 48/100\n",
      "7200/7200 [==============================] - 4s 596us/step - loss: 0.4601\n",
      "Epoch 49/100\n",
      "7200/7200 [==============================] - 4s 588us/step - loss: 0.4601\n",
      "Epoch 50/100\n",
      "7200/7200 [==============================] - 4s 606us/step - loss: 0.4599\n",
      "Epoch 51/100\n",
      "7200/7200 [==============================] - 4s 594us/step - loss: 0.4597\n",
      "Epoch 52/100\n",
      "7200/7200 [==============================] - 4s 617us/step - loss: 0.4599\n",
      "Epoch 53/100\n",
      "7200/7200 [==============================] - 4s 592us/step - loss: 0.4598\n",
      "Epoch 54/100\n",
      "7200/7200 [==============================] - 4s 577us/step - loss: 0.4599\n",
      "Epoch 55/100\n",
      "7200/7200 [==============================] - 4s 598us/step - loss: 0.4598\n",
      "Epoch 56/100\n",
      "7200/7200 [==============================] - 4s 586us/step - loss: 0.4599\n",
      "Epoch 57/100\n",
      "7200/7200 [==============================] - 4s 587us/step - loss: 0.4600\n",
      "Epoch 58/100\n",
      "7200/7200 [==============================] - 4s 597us/step - loss: 0.4599\n",
      "Epoch 59/100\n",
      "7200/7200 [==============================] - 4s 587us/step - loss: 0.4598\n",
      "Epoch 60/100\n",
      "7200/7200 [==============================] - 4s 590us/step - loss: 0.4598\n",
      "Epoch 61/100\n",
      "7200/7200 [==============================] - 4s 586us/step - loss: 0.4597\n",
      "Epoch 62/100\n",
      "7200/7200 [==============================] - 4s 587us/step - loss: 0.4597\n",
      "Epoch 63/100\n",
      "7200/7200 [==============================] - 4s 594us/step - loss: 0.4597\n",
      "Epoch 64/100\n",
      "7200/7200 [==============================] - 4s 598us/step - loss: 0.4598\n",
      "Epoch 65/100\n",
      "7200/7200 [==============================] - 4s 606us/step - loss: 0.4598\n",
      "Epoch 66/100\n",
      "7200/7200 [==============================] - 5s 719us/step - loss: 0.4597\n",
      "Epoch 67/100\n",
      "7200/7200 [==============================] - 5s 692us/step - loss: 0.4597\n",
      "Epoch 68/100\n",
      "7200/7200 [==============================] - 5s 655us/step - loss: 0.4599\n",
      "Epoch 69/100\n",
      "7200/7200 [==============================] - 5s 691us/step - loss: 0.4596\n",
      "Epoch 70/100\n",
      "7200/7200 [==============================] - 6s 772us/step - loss: 0.4600\n",
      "Epoch 71/100\n",
      "7200/7200 [==============================] - 5s 723us/step - loss: 0.4597\n",
      "Epoch 72/100\n",
      "7200/7200 [==============================] - 5s 763us/step - loss: 0.4600\n",
      "Epoch 73/100\n",
      "6336/7200 [=========================>....] - ETA: 0s - loss: 0.4594"
     ]
    }
   ],
   "source": [
    "model.fit(x_train,y_train,epochs=100,batch_size=25)"
   ]
  },
  {
   "cell_type": "code",
   "execution_count": null,
   "metadata": {},
   "outputs": [
    {
     "name": "stdout",
     "output_type": "stream",
     "text": [
      "Test loss: 0.6247426867485046\n"
     ]
    }
   ],
   "source": [
    "score = model.evaluate(x_test, y_test, verbose = 0) \n",
    "\n",
    "print('Test loss:', score) \n",
    "#print('Test accuracy:', score[1])"
   ]
  }
 ],
 "metadata": {
  "kernelspec": {
   "display_name": "Python 3.10.1 64-bit",
   "language": "python",
   "name": "python3"
  },
  "language_info": {
   "codemirror_mode": {
    "name": "ipython",
    "version": 3
   },
   "file_extension": ".py",
   "mimetype": "text/x-python",
   "name": "python",
   "nbconvert_exporter": "python",
   "pygments_lexer": "ipython3",
   "version": "3.10.6"
  },
  "orig_nbformat": 4,
  "vscode": {
   "interpreter": {
    "hash": "26de051ba29f2982a8de78e945f0abaf191376122a1563185a90213a26c5da77"
   }
  }
 },
 "nbformat": 4,
 "nbformat_minor": 2
}
